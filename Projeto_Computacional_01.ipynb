{
  "nbformat": 4,
  "nbformat_minor": 0,
  "metadata": {
    "colab": {
      "provenance": []
    },
    "kernelspec": {
      "name": "python3",
      "display_name": "Python 3"
    },
    "language_info": {
      "name": "python"
    }
  },
  "cells": [
    {
      "cell_type": "markdown",
      "source": [],
      "metadata": {
        "id": "ryWBiu3KGYs_"
      }
    },
    {
      "cell_type": "markdown",
      "source": [
        "#I) *IMPLEMENTANDO EM ALGORITMOS GENETICOS.*\n",
        "\n",
        "---\n",
        "\n"
      ],
      "metadata": {
        "id": "UKK0HMDCI8SG"
      }
    },
    {
      "cell_type": "markdown",
      "source": [
        "#Bibliotecas."
      ],
      "metadata": {
        "id": "uvGcTR3nGakH"
      }
    },
    {
      "cell_type": "code",
      "execution_count": 10,
      "metadata": {
        "id": "ZNZ5kSlR_4Nc"
      },
      "outputs": [],
      "source": [
        "import numpy as np\n",
        "import random\n",
        "from deap import base, creator, tools, algorithms"
      ]
    },
    {
      "cell_type": "markdown",
      "source": [
        "#Matriz de custos."
      ],
      "metadata": {
        "id": "kHf3u0X1GLIe"
      }
    },
    {
      "cell_type": "code",
      "source": [
        "matriz_custos = np.array([\n",
        "    [0, 10, 15, 45, 5, 45, 50, 44, 30, 100, 67, 33, 90, 17, 50],\n",
        "    [15, 0, 100, 30, 20, 25, 80, 45, 41, 5, 45, 10, 90, 10, 35],\n",
        "    [40, 80, 0, 90, 70, 33, 100, 70, 30, 23, 80, 60, 47, 33, 25],\n",
        "    [40, 80, 5, 0, 5, 40, 21, 20, 30, 14, 55, 35, 21, 5, 40],\n",
        "    [100, 8, 5, 45, 0, 14, 50, 27, 33, 60, 17, 10, 20, 13, 71],\n",
        "    [15, 70, 90, 20, 11, 0, 15, 35, 30, 15, 18, 35, 15, 90, 23],\n",
        "    [25, 19, 18, 30, 100, 55, 0, 70, 55, 41, 55, 100, 18, 14, 18],\n",
        "    [40, 15, 60, 45, 70, 33, 25, 0, 27, 60, 80, 35, 30, 41, 35],\n",
        "    [21, 34, 17, 10, 11, 40, 8, 32, 0, 47, 76, 40, 21, 90, 21],\n",
        "    [35, 100, 5, 18, 43, 25, 14, 30, 39, 0, 17, 35, 15, 13, 40],\n",
        "    [38, 20, 23, 30, 5, 55, 50, 33, 70, 14, 0, 60, 30, 35, 21],\n",
        "    [15, 14, 45, 21, 100, 10, 8, 20, 35, 43, 8, 0, 15, 100, 23],\n",
        "    [80, 10, 5, 20, 35, 8, 90, 5, 44, 10, 80, 14, 0, 25, 80],\n",
        "    [33, 90, 40, 18, 70, 45, 25, 23, 90, 44, 43, 70, 5, 0, 25],\n",
        "    [25, 70, 45, 50, 5, 45, 20, 100, 25, 50, 35, 10, 90, 5, 0]\n",
        "])"
      ],
      "metadata": {
        "id": "r6E8wmnh_9Ko"
      },
      "execution_count": 13,
      "outputs": []
    },
    {
      "cell_type": "markdown",
      "source": [
        "#Parâmetros do Algoritmo Genetico.\n"
      ],
      "metadata": {
        "id": "89BaIQvsB3wv"
      }
    },
    {
      "cell_type": "code",
      "source": [
        "num_populacao = 100\n",
        "num_geracoes = 1000\n",
        "probabilidade_mutacao = 0.1\n",
        "num_cidades = matriz_custos.shape[0]\n"
      ],
      "metadata": {
        "id": "0MsBVa1vBvB4"
      },
      "execution_count": 17,
      "outputs": []
    },
    {
      "cell_type": "markdown",
      "source": [
        "#Função para calcular o custo total de uma rota."
      ],
      "metadata": {
        "id": "ltUW7hUsGhhW"
      }
    },
    {
      "cell_type": "code",
      "source": [
        "\n",
        "def calcular_custo(rota):\n",
        "    custo_total = 0\n",
        "    for i in range(num_cidades - 1):\n",
        "        custo_total += matriz_custos[rota[i], rota[i + 1]]\n",
        "    custo_total += matriz_custos[rota[-1], rota[0]]  #Retorna à cidade inicial\n",
        "    return custo_total\n"
      ],
      "metadata": {
        "id": "JhbjevY3ByCX"
      },
      "execution_count": 18,
      "outputs": []
    },
    {
      "cell_type": "markdown",
      "source": [
        "# Função para gerar uma população inicial."
      ],
      "metadata": {
        "id": "aJXNd876JYhu"
      }
    },
    {
      "cell_type": "code",
      "source": [
        "def gerar_populacao_inicial():\n",
        "    populacao = []\n",
        "    for _ in range(num_populacao):\n",
        "        rota = list(range(num_cidades))\n",
        "        random.shuffle(rota)  #Embaralha para gerar uma solução aleatória\n",
        "        populacao.append(rota)\n",
        "    return populacao"
      ],
      "metadata": {
        "id": "-53-4xFCGiCG"
      },
      "execution_count": 19,
      "outputs": []
    },
    {
      "cell_type": "markdown",
      "source": [
        "#Função para selecionar pais com base na aptidão."
      ],
      "metadata": {
        "id": "NFPWp8XwJduG"
      }
    },
    {
      "cell_type": "code",
      "source": [
        "def selecionar_pais(populacao):\n",
        "    aptidao = [1 / calcular_custo(rota) for rota in populacao]\n",
        "    soma_aptidao = sum(aptidao)\n",
        "    probabilidade = [aptidao[i] / soma_aptidao for i in range(len(aptidao))]\n",
        "\n",
        "    pais = random.choices(populacao, weights=probabilidade, k=2)\n",
        "    return pais"
      ],
      "metadata": {
        "id": "7Nw8hJslJav4"
      },
      "execution_count": 20,
      "outputs": []
    },
    {
      "cell_type": "markdown",
      "source": [
        "# Função de cruzamento (crossover)."
      ],
      "metadata": {
        "id": "caeouUOxJ8tN"
      }
    },
    {
      "cell_type": "code",
      "source": [
        "def cruzar(pai1, pai2):\n",
        "    ponto_corte = random.randint(1, num_cidades - 2)\n",
        "    filho1 = pai1[:ponto_corte] + [cidade for cidade in pai2 if cidade not in pai1[:ponto_corte]]\n",
        "    filho2 = pai2[:ponto_corte] + [cidade for cidade in pai1 if cidade not in pai2[:ponto_corte]]\n",
        "    return filho1, filho2"
      ],
      "metadata": {
        "id": "d_H49U30J6q1"
      },
      "execution_count": 21,
      "outputs": []
    },
    {
      "cell_type": "markdown",
      "source": [
        "# Função de mutação."
      ],
      "metadata": {
        "id": "Xy1QJQ2TKDU9"
      }
    },
    {
      "cell_type": "code",
      "source": [
        "def mutacao(rota):\n",
        "    if random.random() < probabilidade_mutacao:\n",
        "        i, j = random.sample(range(num_cidades), 2)\n",
        "        rota[i], rota[j] = rota[j], rota[i]  #Troca duas cidades\n",
        "    return rota"
      ],
      "metadata": {
        "id": "WFdvBusiKALl"
      },
      "execution_count": 22,
      "outputs": []
    },
    {
      "cell_type": "markdown",
      "source": [
        "# Função principal do algoritmo genético."
      ],
      "metadata": {
        "id": "GHgv-MNtKHwu"
      }
    },
    {
      "cell_type": "code",
      "source": [
        "def algoritmo_genetico():\n",
        "    populacao = gerar_populacao_inicial()\n",
        "    melhor_rota = None\n",
        "    menor_custo = float('inf')\n",
        "\n",
        "    for geracao in range(num_geracoes):\n",
        "        nova_populacao = []\n",
        "        for _ in range(num_populacao // 2):\n",
        "            pais = selecionar_pais(populacao)\n",
        "            filho1, filho2 = cruzar(pais[0], pais[1])\n",
        "            nova_populacao.append(mutacao(filho1))\n",
        "            nova_populacao.append(mutacao(filho2))\n",
        "\n",
        "        #Atualiza a população\n",
        "        populacao = nova_populacao\n",
        "\n",
        "        #Avaliar a população e encontrar a melhor rota\n",
        "        for rota in populacao:\n",
        "            custo = calcular_custo(rota)\n",
        "            if custo < menor_custo:\n",
        "                menor_custo = custo\n",
        "                melhor_rota = rota\n",
        "\n",
        "    return melhor_rota, menor_custo\n",
        "\n",
        "melhor_rota, menor_custo = algoritmo_genetico()"
      ],
      "metadata": {
        "id": "mSaORJ5VKFoW"
      },
      "execution_count": 29,
      "outputs": []
    },
    {
      "cell_type": "markdown",
      "source": [
        "#Exibindo a solução."
      ],
      "metadata": {
        "id": "zpvpb39TKYb2"
      }
    },
    {
      "cell_type": "code",
      "source": [
        "print(\"Melhor rota encontrada:\", melhor_rota)\n",
        "print(\"Custo total da rota:\", menor_custo)"
      ],
      "metadata": {
        "colab": {
          "base_uri": "https://localhost:8080/"
        },
        "id": "xUtLINJMKKM2",
        "outputId": "6c524e86-5d47-41e6-f0c0-4b6dd6d6195e"
      },
      "execution_count": 30,
      "outputs": [
        {
          "output_type": "stream",
          "name": "stdout",
          "text": [
            "Melhor rota encontrada: [6, 14, 8, 0, 2, 5, 10, 4, 11, 3, 13, 12, 7, 1, 9]\n",
            "Custo total da rota: 215\n"
          ]
        }
      ]
    },
    {
      "cell_type": "markdown",
      "source": [
        "#II) *IMPLEMENTANDO EM COLONIA DE FORMIGAS.*"
      ],
      "metadata": {
        "id": "zcmrEiyqLvdu"
      }
    },
    {
      "cell_type": "markdown",
      "source": [
        "#Parâmetros da Colonia de Formigas.\n"
      ],
      "metadata": {
        "id": "kb5ypLjyL0a2"
      }
    },
    {
      "cell_type": "code",
      "source": [
        "num_formigas = 50\n",
        "num_iteracoes = 100\n",
        "evaporacao = 0.5\n",
        "alpha = 1  #Peso do feromônio\n",
        "beta = 2   #Peso da heurística\n",
        "q0 = 0.9   #Probabilidade de escolha exploratória"
      ],
      "metadata": {
        "id": "qHSY6t8AKe4F"
      },
      "execution_count": 32,
      "outputs": []
    },
    {
      "cell_type": "markdown",
      "source": [
        "# Inicializando feromônios."
      ],
      "metadata": {
        "id": "60nI9lSLMC0t"
      }
    },
    {
      "cell_type": "code",
      "source": [
        "num_cidades = matriz_custos.shape[0]\n",
        "feromônio = np.ones((num_cidades, num_cidades))"
      ],
      "metadata": {
        "id": "mA4VCJ5sL97F"
      },
      "execution_count": 33,
      "outputs": []
    },
    {
      "cell_type": "markdown",
      "source": [
        "# Função para calcular a rota de uma formiga."
      ],
      "metadata": {
        "id": "6wZNXVNUMIQ-"
      }
    },
    {
      "cell_type": "code",
      "source": [
        "def calcular_rota(formiga):\n",
        "    rota = [formiga[0]]  #Começa na cidade 0\n",
        "    custo_total = 0\n",
        "\n",
        "    for i in range(num_cidades - 1):\n",
        "        cidade_atual = rota[-1]\n",
        "        cidade_proxima = formiga[i+1]\n",
        "        custo_total += matriz_custos[cidade_atual, cidade_proxima]\n",
        "\n",
        "    #Volta para a cidade inicial\n",
        "    custo_total += matriz_custos[rota[-1], rota[0]]\n",
        "\n",
        "    return rota, custo_total"
      ],
      "metadata": {
        "id": "vfTAnJeSMHHm"
      },
      "execution_count": 34,
      "outputs": []
    },
    {
      "cell_type": "markdown",
      "source": [
        " # Função para atualizar feromônio"
      ],
      "metadata": {
        "id": "i8sFUrXGMkrN"
      }
    },
    {
      "cell_type": "code",
      "source": [
        "def atualizar_feromônio(feromônio, rotas, custos):\n",
        "    #Evaporar o feromônio\n",
        "    feromônio *= (1 - evaporacao)\n",
        "\n",
        "    #Adicionar feromônio nas rotas\n",
        "    for i in range(len(rotas)):\n",
        "        rota = rotas[i]\n",
        "        custo = custos[i]\n",
        "        for j in range(len(rota) - 1):\n",
        "            cidade_atual = rota[j]\n",
        "            cidade_proxima = rota[j+1]\n",
        "            feromônio[cidade_atual, cidade_proxima] += 1 / custo\n",
        "            feromônio[cidade_proxima, cidade_atual] += 1 / custo  #Matriz simétrica\n"
      ],
      "metadata": {
        "id": "8ZYZ-kOfMNcW"
      },
      "execution_count": 35,
      "outputs": []
    },
    {
      "cell_type": "markdown",
      "source": [
        "# Função principal da colonia de formigas"
      ],
      "metadata": {
        "id": "yKhYdFy8Ms2l"
      }
    },
    {
      "cell_type": "code",
      "source": [
        "def colonia(matriz_custos):\n",
        "    melhor_rota = None\n",
        "    menor_custo = float('inf')\n",
        "\n",
        "    for _ in range(num_iteracoes):\n",
        "        rotas = []\n",
        "        custos = []\n",
        "\n",
        "        #Construção das rotas das formigas\n",
        "        for _ in range(num_formigas):\n",
        "            cidade_inicial = random.randint(0, num_cidades - 1)\n",
        "            cidade_atual = cidade_inicial\n",
        "            visitadas = [cidade_atual]\n",
        "            formiga = [cidade_atual]\n",
        "\n",
        "            for _ in range(num_cidades - 1):\n",
        "                probabilidades = np.zeros(num_cidades)\n",
        "                for cidade in range(num_cidades):\n",
        "                    if cidade not in visitadas:\n",
        "                        probabilidades[cidade] = (feromônio[cidade_atual, cidade] ** alpha) * \\\n",
        "                                                 ((1 / matriz_custos[cidade_atual, cidade]) ** beta)\n",
        "\n",
        "                #Normaliza as probabilidades\n",
        "                soma_probabilidades = probabilidades.sum()\n",
        "                probabilidades /= soma_probabilidades\n",
        "                cidade_proxima = np.random.choice(range(num_cidades), p=probabilidades)\n",
        "                visitadas.append(cidade_proxima)\n",
        "                formiga.append(cidade_proxima)\n",
        "                cidade_atual = cidade_proxima\n",
        "\n",
        "            #Calculando o custo da rota\n",
        "            rota, custo = calcular_rota(formiga)\n",
        "            rotas.append(rota)\n",
        "            custos.append(custo)\n",
        "\n",
        "            #Atualizando a melhor solução\n",
        "            if custo < menor_custo:\n",
        "                menor_custo = custo\n",
        "                melhor_rota = rota\n",
        "\n",
        "        #Atualizando os feromônios\n",
        "        atualizar_feromônio(feromônio, rotas, custos)\n",
        "\n",
        "    return melhor_rota, menor_custo\n",
        "\n",
        "#Rodando o algoritmo colonia de formigas\n",
        "melhor_rota, menor_custo = colonia(matriz_custos)"
      ],
      "metadata": {
        "id": "dHCvV6MLMoVV"
      },
      "execution_count": 36,
      "outputs": []
    },
    {
      "cell_type": "markdown",
      "source": [
        "# Exibindo a solução."
      ],
      "metadata": {
        "id": "QpjGmKJ7NEmW"
      }
    },
    {
      "cell_type": "code",
      "source": [
        "\n",
        "print(\"Melhor rota encontrada:\", melhor_rota)\n",
        "print(\"Custo total da rota:\", menor_custo)"
      ],
      "metadata": {
        "colab": {
          "base_uri": "https://localhost:8080/"
        },
        "id": "qYvwKCf6M6eF",
        "outputId": "4ea8b2aa-e6dd-4f8e-bc3f-25941f8cf955"
      },
      "execution_count": 39,
      "outputs": [
        {
          "output_type": "stream",
          "name": "stdout",
          "text": [
            "Melhor rota encontrada: [3]\n",
            "Custo total da rota: 411\n"
          ]
        }
      ]
    },
    {
      "cell_type": "markdown",
      "source": [
        "\n",
        "\n",
        "---\n",
        "\n"
      ],
      "metadata": {
        "id": "Q2iX54IyU_y_"
      }
    },
    {
      "cell_type": "markdown",
      "source": [
        "#Relatorio sobre a atividade.\n"
      ],
      "metadata": {
        "id": "PewrlxMTN-Nd"
      }
    },
    {
      "cell_type": "markdown",
      "source": [
        "#1. Introdução.\n",
        "O Problema do Caixeiro Viajante é problema de otimização combinatória, onde um vendedor precisa visitar várias cidades e retornar ao ponto de origem, minimizando a distância total percorrida.\n",
        "\n",
        "O objetivo deste relatório é ilustrar como esses dois algoritmos buscam uma solução ótima e como os parâmetros de configuração impactam a eficácia dos métodos. Ambos os algoritmos fazem uso de técnicas inspiradas em processos naturais, mas com abordagens e mecanismos de busca diferentes.\n",
        "\n",
        "\n",
        "\n",
        "---\n",
        "\n"
      ],
      "metadata": {
        "id": "1FAhgJ-2OLVt"
      }
    },
    {
      "cell_type": "markdown",
      "source": [
        "\n",
        "#2. Metodologia.\n",
        "\n",
        "#Algoritmo Genético.\n",
        "\n",
        "*   População inicial: A população de soluções é gerada aleatoriamente.\n",
        "*   Avaliação da aptidão: O custo de cada rota é calculado.\n",
        "*   Seleção: A seleção dos pais é feita com base na aptidão das rotas.\n",
        "*   Cruzamento: O cruzamento mistura duas rotas para gerar filhos.\n",
        "*   Mutação: A mutação altera aleatoriamente as rotas para explorar novos caminhos.\n",
        "\n",
        "#Algoritmo de Colônia de Formigas\n",
        "*    Inicialização de feromônios: Todos os caminhos começam com uma quantidade de feromônio.\n",
        "*    Exploração: As formigas percorrem as rotas, depositando feromônio nos caminhos percorridos.\n",
        "*    Evaporação: O feromônio evapora ao longo do tempo, diminuindo a atração por rotas antigas.\n",
        "*    Atualização dos feromônios: As melhores rotas recebem mais feromônio, guiando as formigas para elas nas próximas iterações.\n",
        "\n",
        "\n",
        "\n",
        "\n",
        "\n",
        "---\n",
        "\n",
        "\n"
      ],
      "metadata": {
        "id": "3XFaEtbtOcwu"
      }
    },
    {
      "cell_type": "markdown",
      "source": [
        "#3. Resultados\n",
        "Resultados Obtidos:\n",
        "Algoritmo Genético (AG):\n",
        "\n",
        "*    Melhor rota encontrada: [6, 14, 8, 0, 2, 5, 10, 4, 11, 3, 13, 12, 7, 1, 9]\n",
        "*    Custo total: 215\n",
        "*    O Algoritmo Genético mostrou boa convergência e encontrou uma solução ótima após 1000 gerações.\n",
        "\n",
        "Algoritmo de Colônia de Formigas :\n",
        "\n",
        "* Melhor rota encontrada: [3]\n",
        "*  Custo total: 411\n",
        "* A colonia de formigas não convergiu adequadamente e encontrou uma solução incompleta e subótima, indicando falhas no processo de exploração.\n",
        "\n",
        "Evolução e Convergência:\n",
        "\n",
        "* Algoritmo Genético: Evolui bem, melhorando as soluções a cada geração e convergindo para uma solução de custo baixo.\n",
        "* Colonia formigas: Teve falhas de convergência e não conseguiu encontrar uma solução válida.\n",
        "\n",
        "Sensibilidade aos Parâmetros:\n",
        "* Algoritmo Genético: Menos sensível aos parâmetros, mantendo um bom equilíbrio entre exploração e exploração.\n",
        "* Colonia formigas: Altamente sensível aos parâmetros, como taxa de evaporação e número de formigas, o que afetou sua capacidade de convergir."
      ],
      "metadata": {
        "id": "Aguy4fBmQO5F"
      }
    }
  ]
}